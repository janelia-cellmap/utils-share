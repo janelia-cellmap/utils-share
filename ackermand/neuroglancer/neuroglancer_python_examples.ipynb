{
 "cells": [
  {
   "cell_type": "markdown",
   "metadata": {},
   "source": [
    "## Read in a segmentation dataset"
   ]
  },
  {
   "cell_type": "code",
   "execution_count": 2,
   "metadata": {},
   "outputs": [],
   "source": [
    "from funlib.persistence import open_ds\n",
    "import numpy as np\n",
    "\n",
    "ds = open_ds(\n",
    "    \"/nrs/cellmap/zouinkhim/predictions/v21/2023_12_06_post_processed_2.n5\",\n",
    "    \"mito_steps_3/Final_relabel\",\n",
    ")\n",
    "ds.materialize()\n",
    "data = ds.data.astype(\n",
    "    np.uint16\n",
    ")  # to save memory, might want to downsample for quicker on the fly mesh generation"
   ]
  },
  {
   "cell_type": "markdown",
   "metadata": {},
   "source": [
    "## Display it in neuroglancer along with an image layer. Selecting an object will start an automatic mesh generation for that object"
   ]
  },
  {
   "cell_type": "code",
   "execution_count": 4,
   "metadata": {},
   "outputs": [
    {
     "name": "stdout",
     "output_type": "stream",
     "text": [
      "http://ackermand-ws2.hhmi.org:33173/v/195fa4b7154ddb319f1b7d23f302488845fdcd4e/\n"
     ]
    }
   ],
   "source": [
    "import neuroglancer\n",
    "import socket\n",
    "\n",
    "neuroglancer.set_server_bind_address(\"0.0.0.0\")\n",
    "viewer = neuroglancer.Viewer()\n",
    "dimensions = neuroglancer.CoordinateSpace(\n",
    "    names=[\"z\", \"y\", \"x\"], units=\"nm\", scales=ds.voxel_size\n",
    ")\n",
    "\n",
    "with viewer.txn() as state:\n",
    "    state.dimensions = dimensions\n",
    "    state.layers[\"raw\"] = neuroglancer.ImageLayer(\n",
    "        source=\"n5://https://cellmap-vm1.int.janelia.org/nrs/data/jrc_mus-liver-zon-1/jrc_mus-liver-zon-1.n5/em/fibsem-uint8\"  # occasionally have issues here between http and https\n",
    "    )\n",
    "\n",
    "    state.layers[\"mito\"] = neuroglancer.SegmentationLayer(\n",
    "        # segments=[str(i) for i in np.unique(data[data > 0])], # this line will cause all objects to be selected and thus all meshes to be generated...will be slow if lots of high res meshes\n",
    "        source=neuroglancer.LocalVolume(\n",
    "            data=data,\n",
    "            dimensions=neuroglancer.CoordinateSpace(\n",
    "                names=[\"z\", \"y\", \"x\"],\n",
    "                units=[\"nm\", \"nm\", \"nm\"],\n",
    "                scales=ds.voxel_size,\n",
    "                coordinate_arrays=[\n",
    "                    None,\n",
    "                    None,\n",
    "                    None,\n",
    "                ],\n",
    "            ),\n",
    "            voxel_offset=ds.roi.begin / ds.voxel_size,\n",
    "        ),\n",
    "    )\n",
    "    print(viewer)"
   ]
  }
 ],
 "metadata": {
  "kernelspec": {
   "display_name": "cellmap_experiments",
   "language": "python",
   "name": "python3"
  },
  "language_info": {
   "codemirror_mode": {
    "name": "ipython",
    "version": 3
   },
   "file_extension": ".py",
   "mimetype": "text/x-python",
   "name": "python",
   "nbconvert_exporter": "python",
   "pygments_lexer": "ipython3",
   "version": "3.10.12"
  }
 },
 "nbformat": 4,
 "nbformat_minor": 2
}
